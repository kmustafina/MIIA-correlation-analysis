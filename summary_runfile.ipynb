{
 "cells": [
  {
   "cell_type": "code",
   "source": [
    "import csv\n",
    "import imageio\n",
    "import pandas as pd\n",
    "import os\n",
    "from matplotlib import pyplot as plt\n",
    "import numpy as np\n",
    "plt.style.use(['default'])"
   ],
   "metadata": {
    "collapsed": false,
    "pycharm": {
     "name": "#%%\n"
    },
    "ExecuteTime": {
     "end_time": "2024-07-05T08:46:30.273714Z",
     "start_time": "2024-07-05T08:46:25.996090Z"
    }
   },
   "outputs": [],
   "execution_count": 1
  },
  {
   "metadata": {},
   "cell_type": "code",
   "outputs": [],
   "execution_count": 8,
   "source": [
    "path = 'data'\n",
    "n = {}\n",
    "area = {}\n",
    "dens = {}\n",
    "int = {}\n",
    "m = {}\n",
    "intens = {}\n",
    "da = {}\n",
    "names = {}\n",
    "for dir in os.listdir(path):\n",
    "    label = dir\n",
    "    name = []\n",
    "    green_n = []\n",
    "    red_n = []\n",
    "    iccs_n = []\n",
    "    green_area = []\n",
    "    red_area = []\n",
    "    iccs_area = []\n",
    "    green_int = []\n",
    "    red_int = []\n",
    "    green_dens = []\n",
    "    red_dens = []\n",
    "    iccs_dens = []\n",
    "    m1 = []\n",
    "    m2 = []\n",
    "    da_green = []\n",
    "    da_red = []\n",
    "    for subdir in os.listdir(os.path.join(path, dir)):\n",
    "        for files in os.listdir(os.path.join(path, dir, subdir)):\n",
    "            if files.endswith('.xlsx'):\n",
    "                data = pd.read_excel(os.path.join(path, dir, subdir, files), header=None)\n",
    "                name.append(os.path.basename(files))\n",
    "                green_n.append(data.iloc[0][0])\n",
    "                red_n.append(data.iloc[1][0])\n",
    "                iccs_n.append(data.iloc[2][0])\n",
    "                green_area.append(data.iloc[3][0])\n",
    "                red_area.append(data.iloc[4][0])\n",
    "                iccs_area.append(data.iloc[5][0])\n",
    "                green_int.append(data.iloc[6][0])\n",
    "                red_int.append(data.iloc[7][0])\n",
    "                # if (data.iloc[0]/data.iloc[3] > 1).bool():\n",
    "                green_dens.append((data.iloc[0][0])/(data.iloc[3][0]))\n",
    "                da_green.append((data.iloc[6][0])/((data.iloc[0][0])/(data.iloc[3][0])))\n",
    "                # if (data.iloc[1]/data.iloc[4] > 1).bool():\n",
    "                red_dens.append((data.iloc[1][0])/(data.iloc[4][0]))\n",
    "                da_red.append((data.iloc[7][0])/((data.iloc[1][0])/(data.iloc[4][0])))\n",
    "                # if (data.iloc[2]/data.iloc[5] > 1).bool():\n",
    "                iccs_dens.append((data.iloc[2][0])/(data.iloc[5][0]))\n",
    "                m1.append(((data.iloc[2][0])/(data.iloc[5][0]))/((data.iloc[0][0])/(data.iloc[3][0])))\n",
    "                m2.append(((data.iloc[2][0])/(data.iloc[5][0]))/((data.iloc[1][0])/(data.iloc[4][0])))\n",
    "\n",
    "    names[f'{label}'] = name\n",
    "    n[f'{label}_n_green'] = green_n\n",
    "    n[f'{label}_n_red'] = red_n\n",
    "    n[f'{label}_n_iccs'] = iccs_n\n",
    "    area[f'{label}_area_green'] = green_area\n",
    "    area[f'{label}_area_red'] = red_area\n",
    "    area[f'{label}_area_iccs'] = iccs_area\n",
    "    dens[f'{label}_dens_green'] = green_dens\n",
    "    dens[f'{label}_dens_red'] = red_dens\n",
    "    dens[f'{label}_dens_iccs'] = iccs_dens\n",
    "    m[f'{label}_m1'] = m1\n",
    "    m[f'{label}_m2'] = m2\n",
    "    intens[f'{label}_green'] = green_int\n",
    "    intens[f'{label}_red'] = red_int\n",
    "    da[f'{label}_green'] = da_green\n",
    "    da[f'{label}_red'] = da_red\n",
    "    res = [name, green_n, red_n, iccs_n, green_area, red_area, iccs_area, green_dens, red_dens, iccs_dens, m1, m2, green_int, red_int, da_green, da_red]\n",
    "\n",
    "    df = pd.DataFrame(res).T\n",
    "    df.columns = ['name', 'green_n', 'red_n', 'iccs_n', 'green_area', 'red_area', 'iccs_area', 'green_dens', 'red_dens', 'iccs_dens', 'm1', 'm2', 'green_int', 'red_int', 'da_green', 'da_red']\n",
    "    pd.DataFrame(df).to_csv(os.path.join(path, f'{label}_res.csv'))"
   ]
  }
 ],
 "metadata": {
  "kernelspec": {
   "display_name": "Python 3",
   "language": "python",
   "name": "python3"
  },
  "language_info": {
   "codemirror_mode": {
    "name": "ipython",
    "version": 2
   },
   "file_extension": ".py",
   "mimetype": "text/x-python",
   "name": "python",
   "nbconvert_exporter": "python",
   "pygments_lexer": "ipython2",
   "version": "2.7.6"
  }
 },
 "nbformat": 4,
 "nbformat_minor": 0
}
